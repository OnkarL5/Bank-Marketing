{
 "cells": [
  {
   "cell_type": "markdown",
   "metadata": {},
   "source": [
    "# Bank Telemarketing"
   ]
  },
  {
   "cell_type": "markdown",
   "metadata": {},
   "source": [
    "In recent times, it has become important to determine how to target customers to make deposits in a bank. It is very diffcult to figure this out by manual labour. There are hundreds of thousands of entries made every single day and quite a lot of factors affecting them. So with the help of Python tools and some Machine Learning algorithms, we try to predict if a customer is going to make a deposit in the bank. \n"
   ]
  },
  {
   "cell_type": "markdown",
   "metadata": {},
   "source": [
    "## Dataset information"
   ]
  },
  {
   "cell_type": "markdown",
   "metadata": {},
   "source": [
    "This dataset was taken from a Portuguese banking institution. The data is related with direct marketing campaigns (phone calls). The final goal of this is to predict if the customer is going to subscribe to term deposit. "
   ]
  },
  {
   "cell_type": "markdown",
   "metadata": {},
   "source": [
    "# Input variables:\n",
    "## Bank client data:\n",
    "- age (numeric)\n",
    "- job : type of job (categorical: 'admin.','blue-collar','entrepreneur','housemaid','management','retired','self-employed','services','student','technician','unemployed','unknown')\n",
    "- marital : marital status (categorical: 'divorced','married','single','unknown'; note: 'divorced' means divorced or widowed)\n",
    "- education (categorical: 'basic.4y','basic.6y','basic.9y','high.school','illiterate','professional.course','university.degree','unknown')\n",
    "- default: has credit in default? (categorical: 'no','yes','unknown')\n",
    "- housing: has housing loan? (categorical: 'no','yes','unknown')\n",
    "- loan: has personal loan? (categorical: 'no','yes','unknown')\n",
    "## related with the last contact of the current campaign:\n",
    "- contact: contact communication type (categorical: 'cellular','telephone') \n",
    "- month: last contact month of year (categorical: 'jan', 'feb', 'mar', ..., 'nov', 'dec')\n",
    "- day_of_week: last contact day of the week (categorical: 'mon','tue','wed','thu','fri')\n",
    "- duration: last contact duration, in seconds (numeric). Important note: this attribute highly affects the output target (e.g., if duration=0 then y='no'). Yet, the duration is not known before a call is performed. Also, after the end of the call y is obviously known. Thus, this input should only be included for benchmark purposes and should be discarded if the intention is to have a realistic predictive model.\n",
    "## other attributes:\n",
    "- campaign: number of contacts performed during this campaign and for this client (numeric, includes last contact)\n",
    "- pdays: number of days that passed by after the client was last contacted from a previous campaign (numeric; 999 means client was not previously contacted)\n",
    "- previous: number of contacts performed before this campaign and for this client (numeric)\n",
    "- poutcome: outcome of the previous marketing campaign (categorical: 'failure','nonexistent','success')\n",
    "## social and economic context attributes\n",
    "- emp.var.rate: employment variation rate - quarterly indicator (numeric)\n",
    "- cons.price.idx: consumer price index - monthly indicator (numeric) \n",
    "- cons.conf.idx: consumer confidence index - monthly indicator (numeric) \n",
    "- euribor3m: euribor 3 month rate - daily indicator (numeric)\n",
    "- nr.employed: number of employees - quarterly indicator (numeric)\n",
    "\n",
    "## Output variable (desired target):\n",
    "- y - has the client subscribed a term deposit? (binary: 'yes','no')"
   ]
  },
  {
   "cell_type": "code",
   "execution_count": 1,
   "metadata": {
    "colab": {},
    "colab_type": "code",
    "collapsed": true,
    "id": "hcw6vyB6ApGT"
   },
   "outputs": [],
   "source": [
    "import numpy as np\n",
    "import pandas as pd\n",
    "\n",
    "import csv\n",
    "import random\n",
    "import math\n",
    "\n",
    "import seaborn as sns\n",
    "import matplotlib.pyplot as plt\n",
    "%matplotlib inline\n",
    "\n",
    "from sklearn.model_selection import cross_val_score\n",
    "# from sklearn.model_selection import StratifiedKFold\n",
    "from sklearn import model_selection\n",
    "\n",
    "from sklearn import metrics\n",
    "from sklearn.metrics import accuracy_score"
   ]
  },
  {
   "cell_type": "code",
   "execution_count": 2,
   "metadata": {
    "colab": {
     "base_uri": "https://localhost:8080/",
     "height": 1903
    },
    "colab_type": "code",
    "executionInfo": {
     "elapsed": 757,
     "status": "ok",
     "timestamp": 1548856826028,
     "user": {
      "displayName": "Onkar Madli",
      "photoUrl": "",
      "userId": "13441899661220481142"
     },
     "user_tz": -330
    },
    "id": "8A-_h5kZApGt",
    "outputId": "0516b88a-a6ef-4eba-822b-a96f04be2949",
    "scrolled": false
   },
   "outputs": [
    {
     "name": "stdout",
     "output_type": "stream",
     "text": [
      "(41188, 21)\n"
     ]
    },
    {
     "data": {
      "text/html": [
       "<div>\n",
       "<style>\n",
       "    .dataframe thead tr:only-child th {\n",
       "        text-align: right;\n",
       "    }\n",
       "\n",
       "    .dataframe thead th {\n",
       "        text-align: left;\n",
       "    }\n",
       "\n",
       "    .dataframe tbody tr th {\n",
       "        vertical-align: top;\n",
       "    }\n",
       "</style>\n",
       "<table border=\"1\" class=\"dataframe\">\n",
       "  <thead>\n",
       "    <tr style=\"text-align: right;\">\n",
       "      <th></th>\n",
       "      <th>age</th>\n",
       "      <th>job</th>\n",
       "      <th>marital</th>\n",
       "      <th>education</th>\n",
       "      <th>default</th>\n",
       "      <th>housing</th>\n",
       "      <th>loan</th>\n",
       "      <th>contact</th>\n",
       "      <th>month</th>\n",
       "      <th>day_of_week</th>\n",
       "      <th>...</th>\n",
       "      <th>campaign</th>\n",
       "      <th>pdays</th>\n",
       "      <th>previous</th>\n",
       "      <th>poutcome</th>\n",
       "      <th>emp.var.rate</th>\n",
       "      <th>cons.price.idx</th>\n",
       "      <th>cons.conf.idx</th>\n",
       "      <th>euribor3m</th>\n",
       "      <th>nr.employed</th>\n",
       "      <th>y</th>\n",
       "    </tr>\n",
       "  </thead>\n",
       "  <tbody>\n",
       "    <tr>\n",
       "      <th>0</th>\n",
       "      <td>56</td>\n",
       "      <td>housemaid</td>\n",
       "      <td>married</td>\n",
       "      <td>basic.4y</td>\n",
       "      <td>no</td>\n",
       "      <td>no</td>\n",
       "      <td>no</td>\n",
       "      <td>telephone</td>\n",
       "      <td>may</td>\n",
       "      <td>mon</td>\n",
       "      <td>...</td>\n",
       "      <td>1</td>\n",
       "      <td>999</td>\n",
       "      <td>0</td>\n",
       "      <td>nonexistent</td>\n",
       "      <td>1.1</td>\n",
       "      <td>93.994</td>\n",
       "      <td>-36.4</td>\n",
       "      <td>4.857</td>\n",
       "      <td>5191.0</td>\n",
       "      <td>no</td>\n",
       "    </tr>\n",
       "    <tr>\n",
       "      <th>1</th>\n",
       "      <td>57</td>\n",
       "      <td>services</td>\n",
       "      <td>married</td>\n",
       "      <td>high.school</td>\n",
       "      <td>unknown</td>\n",
       "      <td>no</td>\n",
       "      <td>no</td>\n",
       "      <td>telephone</td>\n",
       "      <td>may</td>\n",
       "      <td>mon</td>\n",
       "      <td>...</td>\n",
       "      <td>1</td>\n",
       "      <td>999</td>\n",
       "      <td>0</td>\n",
       "      <td>nonexistent</td>\n",
       "      <td>1.1</td>\n",
       "      <td>93.994</td>\n",
       "      <td>-36.4</td>\n",
       "      <td>4.857</td>\n",
       "      <td>5191.0</td>\n",
       "      <td>no</td>\n",
       "    </tr>\n",
       "    <tr>\n",
       "      <th>2</th>\n",
       "      <td>37</td>\n",
       "      <td>services</td>\n",
       "      <td>married</td>\n",
       "      <td>high.school</td>\n",
       "      <td>no</td>\n",
       "      <td>yes</td>\n",
       "      <td>no</td>\n",
       "      <td>telephone</td>\n",
       "      <td>may</td>\n",
       "      <td>mon</td>\n",
       "      <td>...</td>\n",
       "      <td>1</td>\n",
       "      <td>999</td>\n",
       "      <td>0</td>\n",
       "      <td>nonexistent</td>\n",
       "      <td>1.1</td>\n",
       "      <td>93.994</td>\n",
       "      <td>-36.4</td>\n",
       "      <td>4.857</td>\n",
       "      <td>5191.0</td>\n",
       "      <td>no</td>\n",
       "    </tr>\n",
       "    <tr>\n",
       "      <th>3</th>\n",
       "      <td>40</td>\n",
       "      <td>admin.</td>\n",
       "      <td>married</td>\n",
       "      <td>basic.6y</td>\n",
       "      <td>no</td>\n",
       "      <td>no</td>\n",
       "      <td>no</td>\n",
       "      <td>telephone</td>\n",
       "      <td>may</td>\n",
       "      <td>mon</td>\n",
       "      <td>...</td>\n",
       "      <td>1</td>\n",
       "      <td>999</td>\n",
       "      <td>0</td>\n",
       "      <td>nonexistent</td>\n",
       "      <td>1.1</td>\n",
       "      <td>93.994</td>\n",
       "      <td>-36.4</td>\n",
       "      <td>4.857</td>\n",
       "      <td>5191.0</td>\n",
       "      <td>no</td>\n",
       "    </tr>\n",
       "    <tr>\n",
       "      <th>4</th>\n",
       "      <td>56</td>\n",
       "      <td>services</td>\n",
       "      <td>married</td>\n",
       "      <td>high.school</td>\n",
       "      <td>no</td>\n",
       "      <td>no</td>\n",
       "      <td>yes</td>\n",
       "      <td>telephone</td>\n",
       "      <td>may</td>\n",
       "      <td>mon</td>\n",
       "      <td>...</td>\n",
       "      <td>1</td>\n",
       "      <td>999</td>\n",
       "      <td>0</td>\n",
       "      <td>nonexistent</td>\n",
       "      <td>1.1</td>\n",
       "      <td>93.994</td>\n",
       "      <td>-36.4</td>\n",
       "      <td>4.857</td>\n",
       "      <td>5191.0</td>\n",
       "      <td>no</td>\n",
       "    </tr>\n",
       "  </tbody>\n",
       "</table>\n",
       "<p>5 rows × 21 columns</p>\n",
       "</div>"
      ],
      "text/plain": [
       "   age        job  marital    education  default housing loan    contact  \\\n",
       "0   56  housemaid  married     basic.4y       no      no   no  telephone   \n",
       "1   57   services  married  high.school  unknown      no   no  telephone   \n",
       "2   37   services  married  high.school       no     yes   no  telephone   \n",
       "3   40     admin.  married     basic.6y       no      no   no  telephone   \n",
       "4   56   services  married  high.school       no      no  yes  telephone   \n",
       "\n",
       "  month day_of_week ...  campaign  pdays  previous     poutcome emp.var.rate  \\\n",
       "0   may         mon ...         1    999         0  nonexistent          1.1   \n",
       "1   may         mon ...         1    999         0  nonexistent          1.1   \n",
       "2   may         mon ...         1    999         0  nonexistent          1.1   \n",
       "3   may         mon ...         1    999         0  nonexistent          1.1   \n",
       "4   may         mon ...         1    999         0  nonexistent          1.1   \n",
       "\n",
       "   cons.price.idx  cons.conf.idx  euribor3m  nr.employed   y  \n",
       "0          93.994          -36.4      4.857       5191.0  no  \n",
       "1          93.994          -36.4      4.857       5191.0  no  \n",
       "2          93.994          -36.4      4.857       5191.0  no  \n",
       "3          93.994          -36.4      4.857       5191.0  no  \n",
       "4          93.994          -36.4      4.857       5191.0  no  \n",
       "\n",
       "[5 rows x 21 columns]"
      ]
     },
     "execution_count": 2,
     "metadata": {},
     "output_type": "execute_result"
    }
   ],
   "source": [
    "dataset = pd.read_csv('bank-additional-full.csv')\n",
    "print(dataset.shape)\n",
    "dataset.head()"
   ]
  },
  {
   "cell_type": "markdown",
   "metadata": {},
   "source": [
    "# Exploratory Analysis:"
   ]
  },
  {
   "cell_type": "markdown",
   "metadata": {},
   "source": [
    "## Categorical Variables:"
   ]
  },
  {
   "cell_type": "markdown",
   "metadata": {},
   "source": [
    "We first start the exploratory analysis of the categorical variables and see what are the categories and are there any missing values for these categories. Here, we used the seaborn package to create the bar graphs below."
   ]
  },
  {
   "cell_type": "code",
   "execution_count": 3,
   "metadata": {
    "colab": {
     "base_uri": "https://localhost:8080/",
     "height": 2852
    },
    "colab_type": "code",
    "executionInfo": {
     "elapsed": 4013,
     "status": "ok",
     "timestamp": 1548856831612,
     "user": {
      "displayName": "Onkar Madli",
      "photoUrl": "",
      "userId": "13441899661220481142"
     },
     "user_tz": -330
    },
    "id": "E1yfgiGiApG1",
    "outputId": "37b768e2-a0a5-49cb-92b7-f9c0fa3d9bc1",
    "scrolled": true
   },
   "outputs": [
    {
     "data": {
      "image/png": "[encoded data removed]",
      "text/plain": [
       "<Figure size 720x288 with 1 Axes>"
      ]
     },
     "metadata": {},
     "output_type": "display_data"
    },
    {
     "data": {
      "image/png": "[encoded data removed]",
      "text/plain": [
       "<Figure size 720x288 with 1 Axes>"
      ]
     },
     "metadata": {},
     "output_type": "display_data"
    },
    {
     "data": {
      "image/png": "[encoded data removed]",
      "text/plain": [
       "<Figure size 720x288 with 1 Axes>"
      ]
     },
     "metadata": {},
     "output_type": "display_data"
    },
    {
     "data": {
      "image/png": "[encoded data removed]",
      "text/plain": [
       "<Figure size 720x288 with 1 Axes>"
      ]
     },
     "metadata": {},
     "output_type": "display_data"
    },
    {
     "data": {
      "image/png": "[encoded data removed]",
      "text/plain": [
       "<Figure size 720x288 with 1 Axes>"
      ]
     },
     "metadata": {},
     "output_type": "display_data"
    },
    {
     "data": {
      "image/png": "[encoded data removed]",
      "text/plain": [
       "<Figure size 720x288 with 1 Axes>"
      ]
     },
     "metadata": {},
     "output_type": "display_data"
    },
    {
     "data": {
      "image/png": "[encoded data removed]",
      "text/plain": [
       "<Figure size 720x288 with 1 Axes>"
      ]
     },
     "metadata": {},
     "output_type": "display_data"
    },
    {
     "data": {
      "image/png": "[encoded data removed]",
      "text/plain": [
       "<Figure size 720x288 with 1 Axes>"
      ]
     },
     "metadata": {},
     "output_type": "display_data"
    },
    {
     "data": {
      "image/png": "[encoded data removed]",
      "text/plain": [
       "<Figure size 720x288 with 1 Axes>"
      ]
     },
     "metadata": {},
     "output_type": "display_data"
    },
    {
     "data": {
      "image/png": "[encoded data removed]",
      "text/plain": [
       "<Figure size 720x288 with 1 Axes>"
      ]
     },
     "metadata": {},
     "output_type": "display_data"
    }
   ],
   "source": [
    "categorcial_variables = ['job', 'marital', 'education', 'default', 'loan', 'contact', 'month', 'day_of_week', 'poutcome','y']\n",
    "for col in categorcial_variables:\n",
    "    plt.figure(figsize=(10,4))\n",
    "    sns.barplot(dataset[col].value_counts().values, dataset[col].value_counts().index)\n",
    "    plt.title(col)\n",
    "    plt.tight_layout()\n",
    "plt.show()"
   ]
  },
  {
   "cell_type": "markdown",
   "metadata": {},
   "source": [
    "\n",
    "## List of normalized relative frequency of the target class per category. \n",
    "\n",
    "Normalized distribution of each class per feature and plotted difference between positive and negative frequencies. Positive values imply this category favors clients that will subscribe and negative values categories that favor not buying the product."
   ]
  },
  {
   "cell_type": "code",
   "execution_count": 4,
   "metadata": {
    "colab": {
     "base_uri": "https://localhost:8080/",
     "height": 2852
    },
    "colab_type": "code",
    "executionInfo": {
     "elapsed": 4351,
     "status": "ok",
     "timestamp": 1548856842781,
     "user": {
      "displayName": "Onkar Madli",
      "photoUrl": "",
      "userId": "13441899661220481142"
     },
     "user_tz": -330
    },
    "id": "2I2_omGeApG8",
    "outputId": "25587042-e4a4-4fa3-d4b9-c3ba4f1c7324",
    "scrolled": true
   },
   "outputs": [
    {
     "data": {
      "image/png": "[encoded data removed]",
      "text/plain": [
       "<Figure size 720x288 with 1 Axes>"
      ]
     },
     "metadata": {},
     "output_type": "display_data"
    },
    {
     "data": {
      "image/png": "[encoded data removed]",
      "text/plain": [
       "<Figure size 720x288 with 1 Axes>"
      ]
     },
     "metadata": {},
     "output_type": "display_data"
    },
    {
     "data": {
      "image/png": "[encoded data removed]",
      "text/plain": [
       "<Figure size 720x288 with 1 Axes>"
      ]
     },
     "metadata": {},
     "output_type": "display_data"
    },
    {
     "data": {
      "image/png": "[encoded data removed]",
      "text/plain": [
       "<Figure size 720x288 with 1 Axes>"
      ]
     },
     "metadata": {},
     "output_type": "display_data"
    },
    {
     "data": {
      "image/png": "[encoded data removed]",
      "text/plain": [
       "<Figure size 720x288 with 1 Axes>"
      ]
     },
     "metadata": {},
     "output_type": "display_data"
    },
    {
     "data": {
      "image/png": "[encoded data removed]",
      "text/plain": [
       "<Figure size 720x288 with 1 Axes>"
      ]
     },
     "metadata": {},
     "output_type": "display_data"
    },
    {
     "data": {
      "image/png": "[encoded data removed]",
      "text/plain": [
       "<Figure size 720x288 with 1 Axes>"
      ]
     },
     "metadata": {},
     "output_type": "display_data"
    },
    {
     "data": {
      "image/png": "[encoded data removed]",
      "text/plain": [
       "<Figure size 720x288 with 1 Axes>"
      ]
     },
     "metadata": {},
     "output_type": "display_data"
    },
    {
     "data": {
      "image/png": "[encoded data removed]",
      "text/plain": [
       "<Figure size 720x288 with 1 Axes>"
      ]
     },
     "metadata": {},
     "output_type": "display_data"
    },
    {
     "data": {
      "image/png": "[encoded data removed]",
      "text/plain": [
       "<Figure size 720x288 with 1 Axes>"
      ]
     },
     "metadata": {},
     "output_type": "display_data"
    }
   ],
   "source": [
    "for col in categorcial_variables:\n",
    "    plt.figure(figsize=(10,4))\n",
    "    #Returns counts of unique values for each outcome for each feature.\n",
    "    pos_counts = dataset.loc[dataset.y.values == 'yes', col].value_counts() \n",
    "    neg_counts = dataset.loc[dataset.y.values == 'no', col].value_counts()\n",
    "    \n",
    "    all_counts = list(set(list(pos_counts.index) + list(neg_counts.index)))\n",
    "    \n",
    "    #Counts of how often each outcome was recorded.\n",
    "    freq_pos = (dataset.y.values == 'yes').sum()\n",
    "    freq_neg = (dataset.y.values == 'no').sum()\n",
    "    \n",
    "    pos_counts = pos_counts.to_dict()\n",
    "    neg_counts = neg_counts.to_dict()\n",
    "    \n",
    "    all_index = list(all_counts)\n",
    "    all_counts = [pos_counts.get(k, 0) /  freq_pos - neg_counts.get(k, 0)  / freq_neg for k in all_counts]\n",
    "\n",
    "    sns.barplot(all_counts, all_index)\n",
    "    plt.title(col)\n",
    "    plt.tight_layout()\n",
    "    "
   ]
  },
  {
   "cell_type": "markdown",
   "metadata": {},
   "source": [
    "**Inference/Result**: There are unknown values for many variables in the Data set. There are many ways to handle missing data. One of the ways is to discard the row but that would lead to reduction of data set and hence would not be an accurate model.\n",
    "\n",
    "Other method is to infer the value of the unknown from other variables. Here we use other independent variables to infer missing values.\n",
    "\n",
    "Variables with unknown/missing values are: 'education', 'job', 'housing', 'loan', 'default', and 'marital'."
   ]
  },
  {
   "cell_type": "markdown",
   "metadata": {},
   "source": [
    "## Imputation:"
   ]
  },
  {
   "cell_type": "code",
   "execution_count": 5,
   "metadata": {
    "colab": {},
    "colab_type": "code",
    "collapsed": true,
    "id": "sE5KiqyoApHD"
   },
   "outputs": [],
   "source": [
    "df = dataset"
   ]
  },
  {
   "cell_type": "code",
   "execution_count": 6,
   "metadata": {
    "colab": {
     "base_uri": "https://localhost:8080/",
     "height": 230
    },
    "colab_type": "code",
    "executionInfo": {
     "elapsed": 535,
     "status": "ok",
     "timestamp": 1548856844112,
     "user": {
      "displayName": "Onkar Madli",
      "photoUrl": "",
      "userId": "13441899661220481142"
     },
     "user_tz": -330
    },
    "id": "Pw0fktBOApHI",
    "outputId": "c7c9f9fe-d012-456f-92ce-2db5d180d15c",
    "scrolled": true
   },
   "outputs": [
    {
     "data": {
      "text/plain": [
       "retired          678\n",
       "housemaid         54\n",
       "admin.            47\n",
       "technician        34\n",
       "management        30\n",
       "unknown           21\n",
       "blue-collar       20\n",
       "self-employed      9\n",
       "entrepreneur       8\n",
       "unemployed         7\n",
       "services           2\n",
       "Name: job, dtype: int64"
      ]
     },
     "execution_count": 6,
     "metadata": {},
     "output_type": "execute_result"
    }
   ],
   "source": [
    "df['job'][df['age']>60].value_counts()"
   ]
  },
  {
   "cell_type": "markdown",
   "metadata": {},
   "source": [
    "From this we can infer that most of the members with age above 60 are retires hence we can replace unknown job values with 60+ age as retired."
   ]
  },
  {
   "cell_type": "code",
   "execution_count": 7,
   "metadata": {
    "colab": {},
    "colab_type": "code",
    "collapsed": true,
    "id": "1ms8Jz23ApHP"
   },
   "outputs": [],
   "source": [
    "df.loc[(df[\"age\"]>60) & (df[\"job\"]=='unknown'), 'job'] = 'retired'"
   ]
  },
  {
   "cell_type": "markdown",
   "metadata": {},
   "source": [
    "Now, to infer the missing values in 'job' and 'education', we make use of the cross-tabulation between 'job' and 'education'. Our hypothesis here is that 'job' is influenced by the 'education' of a person. Hence, we can infer 'job' based on the education of the person."
   ]
  },
  {
   "cell_type": "code",
   "execution_count": 8,
   "metadata": {
    "colab": {},
    "colab_type": "code",
    "collapsed": true,
    "id": "2Dnma4ECApHX"
   },
   "outputs": [],
   "source": [
    "def cross_tab(df,f1,f2):\n",
    "    jobs=list(df[f1].unique())\n",
    "    edu=list(df[f2].unique())\n",
    "    dataframes=[]\n",
    "    for e in edu:\n",
    "        dfe=df[df[f2]==e]\n",
    "        dfejob=dfe.groupby(f1).count()[f2]\n",
    "        dataframes.append(dfejob)\n",
    "    xx=pd.concat(dataframes,axis=1)\n",
    "    xx.columns=edu\n",
    "    xx=xx.fillna(0)\n",
    "    return xx"
   ]
  },
  {
   "cell_type": "code",
   "execution_count": 9,
   "metadata": {
    "colab": {
     "base_uri": "https://localhost:8080/",
     "height": 399
    },
    "colab_type": "code",
    "collapsed": true,
    "executionInfo": {
     "elapsed": 895,
     "status": "ok",
     "timestamp": 1548856848567,
     "user": {
      "displayName": "Onkar Madli",
      "photoUrl": "",
      "userId": "13441899661220481142"
     },
     "user_tz": -330
    },
    "id": "Osknb993ApHc",
    "outputId": "6916ee05-ae7a-424b-96d7-03cefe02aafd",
    "scrolled": true
   },
   "outputs": [],
   "source": [
    "crossTab = cross_tab(df,'job','education')"
   ]
  },
  {
   "cell_type": "code",
   "execution_count": 10,
   "metadata": {
    "scrolled": true
   },
   "outputs": [
    {
     "data": {
      "text/html": [
       "<div>\n",
       "<style>\n",
       "    .dataframe thead tr:only-child th {\n",
       "        text-align: right;\n",
       "    }\n",
       "\n",
       "    .dataframe thead th {\n",
       "        text-align: left;\n",
       "    }\n",
       "\n",
       "    .dataframe tbody tr th {\n",
       "        vertical-align: top;\n",
       "    }\n",
       "</style>\n",
       "<table border=\"1\" class=\"dataframe\">\n",
       "  <thead>\n",
       "    <tr style=\"text-align: right;\">\n",
       "      <th></th>\n",
       "      <th>basic.4y</th>\n",
       "      <th>high.school</th>\n",
       "      <th>basic.6y</th>\n",
       "      <th>basic.9y</th>\n",
       "      <th>professional.course</th>\n",
       "      <th>unknown</th>\n",
       "      <th>university.degree</th>\n",
       "      <th>illiterate</th>\n",
       "    </tr>\n",
       "  </thead>\n",
       "  <tbody>\n",
       "    <tr>\n",
       "      <th>admin.</th>\n",
       "      <td>77</td>\n",
       "      <td>3329</td>\n",
       "      <td>151</td>\n",
       "      <td>499</td>\n",
       "      <td>363</td>\n",
       "      <td>249</td>\n",
       "      <td>5753</td>\n",
       "      <td>1.0</td>\n",
       "    </tr>\n",
       "    <tr>\n",
       "      <th>blue-collar</th>\n",
       "      <td>2318</td>\n",
       "      <td>878</td>\n",
       "      <td>1426</td>\n",
       "      <td>3623</td>\n",
       "      <td>453</td>\n",
       "      <td>454</td>\n",
       "      <td>94</td>\n",
       "      <td>8.0</td>\n",
       "    </tr>\n",
       "    <tr>\n",
       "      <th>entrepreneur</th>\n",
       "      <td>137</td>\n",
       "      <td>234</td>\n",
       "      <td>71</td>\n",
       "      <td>210</td>\n",
       "      <td>135</td>\n",
       "      <td>57</td>\n",
       "      <td>610</td>\n",
       "      <td>2.0</td>\n",
       "    </tr>\n",
       "    <tr>\n",
       "      <th>housemaid</th>\n",
       "      <td>474</td>\n",
       "      <td>174</td>\n",
       "      <td>77</td>\n",
       "      <td>94</td>\n",
       "      <td>59</td>\n",
       "      <td>42</td>\n",
       "      <td>139</td>\n",
       "      <td>1.0</td>\n",
       "    </tr>\n",
       "    <tr>\n",
       "      <th>management</th>\n",
       "      <td>100</td>\n",
       "      <td>298</td>\n",
       "      <td>85</td>\n",
       "      <td>166</td>\n",
       "      <td>89</td>\n",
       "      <td>123</td>\n",
       "      <td>2063</td>\n",
       "      <td>0.0</td>\n",
       "    </tr>\n",
       "    <tr>\n",
       "      <th>retired</th>\n",
       "      <td>601</td>\n",
       "      <td>276</td>\n",
       "      <td>75</td>\n",
       "      <td>145</td>\n",
       "      <td>243</td>\n",
       "      <td>112</td>\n",
       "      <td>286</td>\n",
       "      <td>3.0</td>\n",
       "    </tr>\n",
       "    <tr>\n",
       "      <th>self-employed</th>\n",
       "      <td>93</td>\n",
       "      <td>118</td>\n",
       "      <td>25</td>\n",
       "      <td>220</td>\n",
       "      <td>168</td>\n",
       "      <td>29</td>\n",
       "      <td>765</td>\n",
       "      <td>3.0</td>\n",
       "    </tr>\n",
       "    <tr>\n",
       "      <th>services</th>\n",
       "      <td>132</td>\n",
       "      <td>2682</td>\n",
       "      <td>226</td>\n",
       "      <td>388</td>\n",
       "      <td>218</td>\n",
       "      <td>150</td>\n",
       "      <td>173</td>\n",
       "      <td>0.0</td>\n",
       "    </tr>\n",
       "    <tr>\n",
       "      <th>student</th>\n",
       "      <td>26</td>\n",
       "      <td>357</td>\n",
       "      <td>13</td>\n",
       "      <td>99</td>\n",
       "      <td>43</td>\n",
       "      <td>167</td>\n",
       "      <td>170</td>\n",
       "      <td>0.0</td>\n",
       "    </tr>\n",
       "    <tr>\n",
       "      <th>technician</th>\n",
       "      <td>58</td>\n",
       "      <td>873</td>\n",
       "      <td>87</td>\n",
       "      <td>384</td>\n",
       "      <td>3320</td>\n",
       "      <td>212</td>\n",
       "      <td>1809</td>\n",
       "      <td>0.0</td>\n",
       "    </tr>\n",
       "    <tr>\n",
       "      <th>unemployed</th>\n",
       "      <td>112</td>\n",
       "      <td>259</td>\n",
       "      <td>34</td>\n",
       "      <td>186</td>\n",
       "      <td>142</td>\n",
       "      <td>19</td>\n",
       "      <td>262</td>\n",
       "      <td>0.0</td>\n",
       "    </tr>\n",
       "    <tr>\n",
       "      <th>unknown</th>\n",
       "      <td>48</td>\n",
       "      <td>37</td>\n",
       "      <td>22</td>\n",
       "      <td>31</td>\n",
       "      <td>10</td>\n",
       "      <td>117</td>\n",
       "      <td>44</td>\n",
       "      <td>0.0</td>\n",
       "    </tr>\n",
       "  </tbody>\n",
       "</table>\n",
       "</div>"
      ],
      "text/plain": [
       "               basic.4y  high.school  basic.6y  basic.9y  professional.course  \\\n",
       "admin.               77         3329       151       499                  363   \n",
       "blue-collar        2318          878      1426      3623                  453   \n",
       "entrepreneur        137          234        71       210                  135   \n",
       "housemaid           474          174        77        94                   59   \n",
       "management          100          298        85       166                   89   \n",
       "retired             601          276        75       145                  243   \n",
       "self-employed        93          118        25       220                  168   \n",
       "services            132         2682       226       388                  218   \n",
       "student              26          357        13        99                   43   \n",
       "technician           58          873        87       384                 3320   \n",
       "unemployed          112          259        34       186                  142   \n",
       "unknown              48           37        22        31                   10   \n",
       "\n",
       "               unknown  university.degree  illiterate  \n",
       "admin.             249               5753         1.0  \n",
       "blue-collar        454                 94         8.0  \n",
       "entrepreneur        57                610         2.0  \n",
       "housemaid           42                139         1.0  \n",
       "management         123               2063         0.0  \n",
       "retired            112                286         3.0  \n",
       "self-employed       29                765         3.0  \n",
       "services           150                173         0.0  \n",
       "student            167                170         0.0  \n",
       "technician         212               1809         0.0  \n",
       "unemployed          19                262         0.0  \n",
       "unknown            117                 44         0.0  "
      ]
     },
     "execution_count": 10,
     "metadata": {},
     "output_type": "execute_result"
    }
   ],
   "source": [
    "crossTab"
   ]
  },
  {
   "cell_type": "code",
   "execution_count": 11,
   "metadata": {
    "collapsed": true,
    "scrolled": false
   },
   "outputs": [],
   "source": [
    "max_values = crossTab.idxmax(axis=1) #this stores key-value pair of job-education to predict education\n",
    "max_values1 = crossTab.idxmax(axis=0)#this stores key-value pair of educaiton-job to predict job "
   ]
  },
  {
   "cell_type": "code",
   "execution_count": 12,
   "metadata": {
    "scrolled": true
   },
   "outputs": [
    {
     "data": {
      "text/plain": [
       "admin.             university.degree\n",
       "blue-collar                 basic.9y\n",
       "entrepreneur       university.degree\n",
       "housemaid                   basic.4y\n",
       "management         university.degree\n",
       "retired                     basic.4y\n",
       "self-employed      university.degree\n",
       "services                 high.school\n",
       "student                  high.school\n",
       "technician       professional.course\n",
       "unemployed         university.degree\n",
       "unknown                      unknown\n",
       "dtype: object"
      ]
     },
     "execution_count": 12,
     "metadata": {},
     "output_type": "execute_result"
    }
   ],
   "source": [
    "max_values"
   ]
  },
  {
   "cell_type": "code",
   "execution_count": 13,
   "metadata": {},
   "outputs": [
    {
     "data": {
      "text/plain": [
       "basic.4y               blue-collar\n",
       "high.school                 admin.\n",
       "basic.6y               blue-collar\n",
       "basic.9y               blue-collar\n",
       "professional.course     technician\n",
       "unknown                blue-collar\n",
       "university.degree           admin.\n",
       "illiterate             blue-collar\n",
       "dtype: object"
      ]
     },
     "execution_count": 13,
     "metadata": {},
     "output_type": "execute_result"
    }
   ],
   "source": [
    "max_values1"
   ]
  },
  {
   "cell_type": "code",
   "execution_count": 14,
   "metadata": {},
   "outputs": [
    {
     "data": {
      "text/plain": [
       "'unknown'"
      ]
     },
     "execution_count": 14,
     "metadata": {},
     "output_type": "execute_result"
    }
   ],
   "source": [
    "max_values1.pop('unknown')\n",
    "max_values.pop('unknown')"
   ]
  },
  {
   "cell_type": "markdown",
   "metadata": {},
   "source": [
    "There maybe be some rows whose education and job both is unknown so we randomly choose a job and then predict education using this value. Since the unknown count in education is significantly high we are predicting job rather than education."
   ]
  },
  {
   "cell_type": "code",
   "execution_count": 15,
   "metadata": {
    "collapsed": true
   },
   "outputs": [],
   "source": [
    "df.loc[(df['education']=='unknown') & (df['job']=='unknown'),'job'] = random.choice(max_values1)"
   ]
  },
  {
   "cell_type": "code",
   "execution_count": 16,
   "metadata": {
    "collapsed": true,
    "scrolled": true
   },
   "outputs": [],
   "source": [
    "# Replaces unknown values of education based on job\n",
    "for i in max_values.keys():\n",
    "    df.loc[(df['education'] =='unknown') & (df['job'] == i),'education'] = max_values[i]"
   ]
  },
  {
   "cell_type": "code",
   "execution_count": 17,
   "metadata": {
    "collapsed": true
   },
   "outputs": [],
   "source": [
    "# Replaces unknown values of job based on education\n",
    "for i in max_values1.keys():\n",
    "    df.loc[(df['job'] =='unknown') & (df['education'] == i),'job'] = max_values1[i]"
   ]
  },
  {
   "cell_type": "code",
   "execution_count": 18,
   "metadata": {
    "collapsed": true
   },
   "outputs": [],
   "source": [
    "dummiess = pd.get_dummies(df['pdays'])"
   ]
  },
  {
   "cell_type": "markdown",
   "metadata": {},
   "source": [
    "### Missing pdays values"
   ]
  },
  {
   "cell_type": "code",
   "execution_count": 19,
   "metadata": {},
   "outputs": [
    {
     "data": {
      "text/plain": [
       "<matplotlib.axes._subplots.AxesSubplot at 0x224af751978>"
      ]
     },
     "execution_count": 19,
     "metadata": {},
     "output_type": "execute_result"
    },
    {
     "data": {
      "image/png": "[encoded data removed]",
      "text/plain": [
       "<Figure size 432x288 with 1 Axes>"
      ]
     },
     "metadata": {},
     "output_type": "display_data"
    }
   ],
   "source": [
    "# s = df.groupby(\"keys\").ids.agg(lambda x:len(x.unique()))\n",
    "pd.value_counts(df['pdays']).plot(kind=\"bar\")"
   ]
  },
  {
   "cell_type": "markdown",
   "metadata": {},
   "source": [
    "From the plot we can see that majority of the values are '999' i.e., the cutomer has never contacted before. So we are dropping this column as this may not be as useful."
   ]
  },
  {
   "cell_type": "code",
   "execution_count": 20,
   "metadata": {
    "collapsed": true
   },
   "outputs": [],
   "source": [
    "df = df.drop('pdays', axis=1);"
   ]
  },
  {
   "cell_type": "code",
   "execution_count": 21,
   "metadata": {
    "colab": {},
    "colab_type": "code",
    "collapsed": true,
    "id": "YMMCEqBkApIC",
    "scrolled": true
   },
   "outputs": [],
   "source": [
    "mapping = {'unknown': np.nan, 'nonexistent': np.nan, 'yes': 1, 'no': 0, 'success': 1, 'failure': 0}\n",
    "df = df.replace(mapping)\n",
    "# df['pdays'] = df['pdays'].replace(999 , 0)"
   ]
  },
  {
   "cell_type": "code",
   "execution_count": 22,
   "metadata": {
    "colab": {},
    "colab_type": "code",
    "collapsed": true,
    "id": "O5xtRJ7-ApII"
   },
   "outputs": [],
   "source": [
    "categorical_variables = ['marital', 'contact', 'month', 'day_of_week']"
   ]
  },
  {
   "cell_type": "code",
   "execution_count": 23,
   "metadata": {
    "colab": {},
    "colab_type": "code",
    "collapsed": true,
    "id": "wHDZu_BgApIN"
   },
   "outputs": [],
   "source": [
    "df[['default', 'housing', 'loan', 'poutcome', 'y']] = df[['default', 'housing', 'loan', 'poutcome', 'y']].apply(pd.to_numeric)"
   ]
  },
  {
   "cell_type": "code",
   "execution_count": 24,
   "metadata": {
    "colab": {
     "base_uri": "https://localhost:8080/",
     "height": 106
    },
    "colab_type": "code",
    "executionInfo": {
     "elapsed": 744,
     "status": "ok",
     "timestamp": 1548856855959,
     "user": {
      "displayName": "Onkar Madli",
      "photoUrl": "",
      "userId": "13441899661220481142"
     },
     "user_tz": -330
    },
    "id": "Jrd94vHkApIZ",
    "outputId": "2c949b1b-b63e-47a4-8ed3-56a7a37157ee"
   },
   "outputs": [
    {
     "data": {
      "text/plain": [
       "{dtype('int64'): Index(['age', 'duration', 'campaign', 'previous', 'y'], dtype='object'),\n",
       " dtype('float64'): Index(['default', 'housing', 'loan', 'poutcome', 'emp.var.rate',\n",
       "        'cons.price.idx', 'cons.conf.idx', 'euribor3m', 'nr.employed'],\n",
       "       dtype='object'),\n",
       " dtype('O'): Index(['job', 'marital', 'education', 'contact', 'month', 'day_of_week'], dtype='object')}"
      ]
     },
     "execution_count": 24,
     "metadata": {},
     "output_type": "execute_result"
    }
   ],
   "source": [
    "g = df.columns.to_series().groupby(df.dtypes).groups\n",
    "g"
   ]
  },
  {
   "cell_type": "markdown",
   "metadata": {},
   "source": [
    "### Replacing NaN values\n",
    "\n",
    "Here we are replacing all missing categorical values with random values and as 'job' and 'education' were replaced earlier there are excluded from the categorical values. And all other numerical values are replaced by their mean values."
   ]
  },
  {
   "cell_type": "code",
   "execution_count": 25,
   "metadata": {
    "colab": {
     "base_uri": "https://localhost:8080/",
     "height": 461
    },
    "colab_type": "code",
    "executionInfo": {
     "elapsed": 26987,
     "status": "ok",
     "timestamp": 1548856882789,
     "user": {
      "displayName": "Onkar Madli",
      "photoUrl": "",
      "userId": "13441899661220481142"
     },
     "user_tz": -330
    },
    "id": "QBbOsQE2ApIg",
    "outputId": "61b27dc3-4a6d-48e4-a90d-34de6f236083",
    "scrolled": true
   },
   "outputs": [
    {
     "name": "stdout",
     "output_type": "stream",
     "text": [
      "age\n",
      "['married', 'single', 'divorced']\n"
     ]
    },
    {
     "name": "stderr",
     "output_type": "stream",
     "text": [
      "C:\\Users\\Onkar\\Anaconda3\\lib\\site-packages\\ipykernel_launcher.py:10: SettingWithCopyWarning: \n",
      "A value is trying to be set on a copy of a slice from a DataFrame\n",
      "\n",
      "See the caveats in the documentation: http://pandas.pydata.org/pandas-docs/stable/indexing.html#indexing-view-versus-copy\n",
      "  # Remove the CWD from sys.path while we load stuff.\n"
     ]
    },
    {
     "name": "stdout",
     "output_type": "stream",
     "text": [
      "default\n",
      "housing\n",
      "loan\n",
      "['telephone', 'cellular']\n",
      "['may', 'jun', 'jul', 'aug', 'oct', 'nov', 'dec', 'mar', 'apr', 'sep']\n",
      "['mon', 'tue', 'wed', 'thu', 'fri']\n",
      "duration\n",
      "campaign\n",
      "previous\n",
      "poutcome\n",
      "emp.var.rate\n",
      "cons.price.idx\n",
      "cons.conf.idx\n",
      "euribor3m\n",
      "nr.employed\n",
      "y\n"
     ]
    }
   ],
   "source": [
    "for i in df:\n",
    "    if i in categorical_variables: \n",
    "        uniques = list(df[i].unique())\n",
    "        if np.nan in uniques:\n",
    "            uniques.remove(np.nan)\n",
    "        print(uniques)\n",
    "        k = 0\n",
    "        for j in df[i]:\n",
    "            if j is np.nan:\n",
    "                df[i][k] = random.choice(uniques)\n",
    "            k += 1\n",
    "    elif i == 'job' or i == 'education':\n",
    "        continue\n",
    "    else:\n",
    "        print(i)\n",
    "        for j in range(len(df[i])):\n",
    "            if math.isnan(df[i][j]):\n",
    "                df[i].fillna(df[i].mean(),inplace=True)"
   ]
  },
  {
   "cell_type": "code",
   "execution_count": 26,
   "metadata": {
    "scrolled": false
   },
   "outputs": [
    {
     "data": {
      "text/plain": [
       "age               0\n",
       "job               0\n",
       "marital           0\n",
       "education         0\n",
       "default           0\n",
       "housing           0\n",
       "loan              0\n",
       "contact           0\n",
       "month             0\n",
       "day_of_week       0\n",
       "duration          0\n",
       "campaign          0\n",
       "previous          0\n",
       "poutcome          0\n",
       "emp.var.rate      0\n",
       "cons.price.idx    0\n",
       "cons.conf.idx     0\n",
       "euribor3m         0\n",
       "nr.employed       0\n",
       "y                 0\n",
       "dtype: int64"
      ]
     },
     "execution_count": 26,
     "metadata": {},
     "output_type": "execute_result"
    }
   ],
   "source": [
    "len(df) - df.count() #Here count() tells us the number of non-NaN values, and this is subtracted from the total number of values (given by len(df))."
   ]
  },
  {
   "cell_type": "markdown",
   "metadata": {},
   "source": [
    "## Label Encoding\n",
    "\n",
    "Here all the categorical variables are selected and encoded using label encoder"
   ]
  },
  {
   "cell_type": "code",
   "execution_count": 27,
   "metadata": {
    "colab": {},
    "colab_type": "code",
    "collapsed": true,
    "id": "fS3BMW-WApIw"
   },
   "outputs": [],
   "source": [
    "from sklearn.preprocessing import LabelEncoder\n",
    "categorical_values  = df[['job', 'marital', 'education', 'contact', 'month', 'day_of_week']]"
   ]
  },
  {
   "cell_type": "code",
   "execution_count": 28,
   "metadata": {
    "colab": {
     "base_uri": "https://localhost:8080/",
     "height": 124
    },
    "colab_type": "code",
    "executionInfo": {
     "elapsed": 1288,
     "status": "ok",
     "timestamp": 1548856887871,
     "user": {
      "displayName": "Onkar Madli",
      "photoUrl": "",
      "userId": "13441899661220481142"
     },
     "user_tz": -330
    },
    "id": "kav6_70JApI1",
    "outputId": "d7cdd3d7-1689-488a-a885-0016f39b7db5"
   },
   "outputs": [
    {
     "name": "stderr",
     "output_type": "stream",
     "text": [
      "C:\\Users\\Onkar\\Anaconda3\\lib\\site-packages\\ipykernel_launcher.py:3: SettingWithCopyWarning: \n",
      "A value is trying to be set on a copy of a slice from a DataFrame.\n",
      "Try using .loc[row_indexer,col_indexer] = value instead\n",
      "\n",
      "See the caveats in the documentation: http://pandas.pydata.org/pandas-docs/stable/indexing.html#indexing-view-versus-copy\n",
      "  This is separate from the ipykernel package so we can avoid doing imports until\n"
     ]
    }
   ],
   "source": [
    "val = LabelEncoder()\n",
    "for i in categorical_values.keys():\n",
    "    categorical_values[i] = val.fit_transform(categorical_values[i].astype('str'))"
   ]
  },
  {
   "cell_type": "code",
   "execution_count": 29,
   "metadata": {
    "collapsed": true
   },
   "outputs": [],
   "source": [
    "for i in categorical_values:\n",
    "    df = df.drop(i,axis =1)"
   ]
  },
  {
   "cell_type": "code",
   "execution_count": 30,
   "metadata": {
    "colab": {},
    "colab_type": "code",
    "collapsed": true,
    "id": "3FEMKaUtApJO"
   },
   "outputs": [],
   "source": [
    "y = df.iloc[:,13]\n",
    "df = df.drop('y',axis = 1)"
   ]
  },
  {
   "cell_type": "code",
   "execution_count": 31,
   "metadata": {
    "colab": {
     "base_uri": "https://localhost:8080/",
     "height": 1866
    },
    "colab_type": "code",
    "collapsed": true,
    "executionInfo": {
     "elapsed": 768,
     "status": "ok",
     "timestamp": 1548856891063,
     "user": {
      "displayName": "Onkar Madli",
      "photoUrl": "",
      "userId": "13441899661220481142"
     },
     "user_tz": -330
    },
    "id": "yBdfcQ10ApJY",
    "outputId": "adab1159-95c2-4a9b-9ffb-1c3fbda15105",
    "scrolled": true
   },
   "outputs": [],
   "source": [
    "df = pd.concat([df, categorical_values],axis = 1)"
   ]
  },
  {
   "cell_type": "code",
   "execution_count": 32,
   "metadata": {
    "scrolled": true
   },
   "outputs": [
    {
     "data": {
      "text/html": [
       "<div>\n",
       "<style>\n",
       "    .dataframe thead tr:only-child th {\n",
       "        text-align: right;\n",
       "    }\n",
       "\n",
       "    .dataframe thead th {\n",
       "        text-align: left;\n",
       "    }\n",
       "\n",
       "    .dataframe tbody tr th {\n",
       "        vertical-align: top;\n",
       "    }\n",
       "</style>\n",
       "<table border=\"1\" class=\"dataframe\">\n",
       "  <thead>\n",
       "    <tr style=\"text-align: right;\">\n",
       "      <th></th>\n",
       "      <th>age</th>\n",
       "      <th>default</th>\n",
       "      <th>housing</th>\n",
       "      <th>loan</th>\n",
       "      <th>duration</th>\n",
       "      <th>campaign</th>\n",
       "      <th>previous</th>\n",
       "      <th>poutcome</th>\n",
       "      <th>emp.var.rate</th>\n",
       "      <th>cons.price.idx</th>\n",
       "      <th>cons.conf.idx</th>\n",
       "      <th>euribor3m</th>\n",
       "      <th>nr.employed</th>\n",
       "      <th>job</th>\n",
       "      <th>marital</th>\n",
       "      <th>education</th>\n",
       "      <th>contact</th>\n",
       "      <th>month</th>\n",
       "      <th>day_of_week</th>\n",
       "    </tr>\n",
       "  </thead>\n",
       "  <tbody>\n",
       "    <tr>\n",
       "      <th>0</th>\n",
       "      <td>56</td>\n",
       "      <td>0.000000</td>\n",
       "      <td>0.0</td>\n",
       "      <td>0.0</td>\n",
       "      <td>261</td>\n",
       "      <td>1</td>\n",
       "      <td>0</td>\n",
       "      <td>0.244089</td>\n",
       "      <td>1.1</td>\n",
       "      <td>93.994</td>\n",
       "      <td>-36.4</td>\n",
       "      <td>4.857</td>\n",
       "      <td>5191.0</td>\n",
       "      <td>3</td>\n",
       "      <td>1</td>\n",
       "      <td>0</td>\n",
       "      <td>1</td>\n",
       "      <td>6</td>\n",
       "      <td>1</td>\n",
       "    </tr>\n",
       "    <tr>\n",
       "      <th>1</th>\n",
       "      <td>57</td>\n",
       "      <td>0.000092</td>\n",
       "      <td>0.0</td>\n",
       "      <td>0.0</td>\n",
       "      <td>149</td>\n",
       "      <td>1</td>\n",
       "      <td>0</td>\n",
       "      <td>0.244089</td>\n",
       "      <td>1.1</td>\n",
       "      <td>93.994</td>\n",
       "      <td>-36.4</td>\n",
       "      <td>4.857</td>\n",
       "      <td>5191.0</td>\n",
       "      <td>7</td>\n",
       "      <td>1</td>\n",
       "      <td>3</td>\n",
       "      <td>1</td>\n",
       "      <td>6</td>\n",
       "      <td>1</td>\n",
       "    </tr>\n",
       "    <tr>\n",
       "      <th>2</th>\n",
       "      <td>37</td>\n",
       "      <td>0.000000</td>\n",
       "      <td>1.0</td>\n",
       "      <td>0.0</td>\n",
       "      <td>226</td>\n",
       "      <td>1</td>\n",
       "      <td>0</td>\n",
       "      <td>0.244089</td>\n",
       "      <td>1.1</td>\n",
       "      <td>93.994</td>\n",
       "      <td>-36.4</td>\n",
       "      <td>4.857</td>\n",
       "      <td>5191.0</td>\n",
       "      <td>7</td>\n",
       "      <td>1</td>\n",
       "      <td>3</td>\n",
       "      <td>1</td>\n",
       "      <td>6</td>\n",
       "      <td>1</td>\n",
       "    </tr>\n",
       "    <tr>\n",
       "      <th>3</th>\n",
       "      <td>40</td>\n",
       "      <td>0.000000</td>\n",
       "      <td>0.0</td>\n",
       "      <td>0.0</td>\n",
       "      <td>151</td>\n",
       "      <td>1</td>\n",
       "      <td>0</td>\n",
       "      <td>0.244089</td>\n",
       "      <td>1.1</td>\n",
       "      <td>93.994</td>\n",
       "      <td>-36.4</td>\n",
       "      <td>4.857</td>\n",
       "      <td>5191.0</td>\n",
       "      <td>0</td>\n",
       "      <td>1</td>\n",
       "      <td>1</td>\n",
       "      <td>1</td>\n",
       "      <td>6</td>\n",
       "      <td>1</td>\n",
       "    </tr>\n",
       "    <tr>\n",
       "      <th>4</th>\n",
       "      <td>56</td>\n",
       "      <td>0.000000</td>\n",
       "      <td>0.0</td>\n",
       "      <td>1.0</td>\n",
       "      <td>307</td>\n",
       "      <td>1</td>\n",
       "      <td>0</td>\n",
       "      <td>0.244089</td>\n",
       "      <td>1.1</td>\n",
       "      <td>93.994</td>\n",
       "      <td>-36.4</td>\n",
       "      <td>4.857</td>\n",
       "      <td>5191.0</td>\n",
       "      <td>7</td>\n",
       "      <td>1</td>\n",
       "      <td>3</td>\n",
       "      <td>1</td>\n",
       "      <td>6</td>\n",
       "      <td>1</td>\n",
       "    </tr>\n",
       "  </tbody>\n",
       "</table>\n",
       "</div>"
      ],
      "text/plain": [
       "   age   default  housing  loan  duration  campaign  previous  poutcome  \\\n",
       "0   56  0.000000      0.0   0.0       261         1         0  0.244089   \n",
       "1   57  0.000092      0.0   0.0       149         1         0  0.244089   \n",
       "2   37  0.000000      1.0   0.0       226         1         0  0.244089   \n",
       "3   40  0.000000      0.0   0.0       151         1         0  0.244089   \n",
       "4   56  0.000000      0.0   1.0       307         1         0  0.244089   \n",
       "\n",
       "   emp.var.rate  cons.price.idx  cons.conf.idx  euribor3m  nr.employed  job  \\\n",
       "0           1.1          93.994          -36.4      4.857       5191.0    3   \n",
       "1           1.1          93.994          -36.4      4.857       5191.0    7   \n",
       "2           1.1          93.994          -36.4      4.857       5191.0    7   \n",
       "3           1.1          93.994          -36.4      4.857       5191.0    0   \n",
       "4           1.1          93.994          -36.4      4.857       5191.0    7   \n",
       "\n",
       "   marital  education  contact  month  day_of_week  \n",
       "0        1          0        1      6            1  \n",
       "1        1          3        1      6            1  \n",
       "2        1          3        1      6            1  \n",
       "3        1          1        1      6            1  \n",
       "4        1          3        1      6            1  "
      ]
     },
     "execution_count": 32,
     "metadata": {},
     "output_type": "execute_result"
    }
   ],
   "source": [
    "df.head()"
   ]
  },
  {
   "cell_type": "markdown",
   "metadata": {},
   "source": [
    "## Normalization\n",
    "\n",
    "Here the normalization is done by using Min-Max scalar. Reason for using normalization is to reduce the disparity between the value."
   ]
  },
  {
   "cell_type": "code",
   "execution_count": 33,
   "metadata": {
    "collapsed": true
   },
   "outputs": [],
   "source": [
    "from sklearn.preprocessing import MinMaxScaler\n",
    "scaler = MinMaxScaler()\n",
    "num = ['age', 'duration', 'campaign', 'previous', 'emp.var.rate', 'cons.price.idx', 'cons.conf.idx', \n",
    "             'euribor3m', 'nr.employed']#add pdays\n",
    "df[num] = scaler.fit_transform(df[num])"
   ]
  },
  {
   "cell_type": "code",
   "execution_count": 34,
   "metadata": {
    "colab": {},
    "colab_type": "code",
    "collapsed": true,
    "id": "6KzTut3aApJ9"
   },
   "outputs": [],
   "source": [
    "X = df.iloc[:,0:19]"
   ]
  },
  {
   "cell_type": "code",
   "execution_count": null,
   "metadata": {
    "collapsed": true
   },
   "outputs": [],
   "source": []
  },
  {
   "cell_type": "code",
   "execution_count": 35,
   "metadata": {
    "colab": {},
    "colab_type": "code",
    "collapsed": true,
    "id": "zdhjJfsHApKv"
   },
   "outputs": [],
   "source": [
    "x_train, x_test, y_train, y_test = model_selection.train_test_split(X, y, test_size=0.2, shuffle = True) #80/20 split"
   ]
  },
  {
   "cell_type": "markdown",
   "metadata": {},
   "source": [
    "# Training and testing"
   ]
  },
  {
   "cell_type": "markdown",
   "metadata": {},
   "source": [
    "## 1. Logistic Regression"
   ]
  },
  {
   "cell_type": "markdown",
   "metadata": {},
   "source": [
    "Logistic regression is the appropriate regression analysis to conduct when the dependent variable is dichotomous (binary).  Like all regression analyses, the logistic regression is a predictive analysis.  Logistic regression is used to describe data and to explain the relationship between one dependent binary variable and one or more nominal, ordinal, interval or ratio-level independent variables."
   ]
  },
  {
   "cell_type": "code",
   "execution_count": 36,
   "metadata": {
    "collapsed": true
   },
   "outputs": [],
   "source": [
    "from sklearn.linear_model import LogisticRegression\n",
    "\n",
    "model = LogisticRegression(penalty='l2', max_iter = 1000)\n",
    "model.fit(x_train, y_train)\n",
    "prediction = model.predict(x_test)"
   ]
  },
  {
   "cell_type": "code",
   "execution_count": 37,
   "metadata": {
    "colab": {
     "base_uri": "https://localhost:8080/",
     "height": 35
    },
    "colab_type": "code",
    "executionInfo": {
     "elapsed": 741,
     "status": "ok",
     "timestamp": 1548856913605,
     "user": {
      "displayName": "Onkar Madli",
      "photoUrl": "",
      "userId": "13441899661220481142"
     },
     "user_tz": -330
    },
    "id": "JVXEa6tkApLF",
    "outputId": "e7e5c626-d2a2-4693-bafe-ae662b85fbd7"
   },
   "outputs": [
    {
     "data": {
      "text/plain": [
       "0.917941247875698"
      ]
     },
     "execution_count": 37,
     "metadata": {},
     "output_type": "execute_result"
    }
   ],
   "source": [
    "accuracy_score(y_test, prediction)"
   ]
  },
  {
   "cell_type": "markdown",
   "metadata": {},
   "source": [
    "## 2. Support Vector Machine (SVM)"
   ]
  },
  {
   "cell_type": "code",
   "execution_count": 38,
   "metadata": {
    "collapsed": true
   },
   "outputs": [],
   "source": [
    "from sklearn.svm import SVC"
   ]
  },
  {
   "cell_type": "code",
   "execution_count": 39,
   "metadata": {
    "colab": {
     "base_uri": "https://localhost:8080/",
     "height": 72
    },
    "colab_type": "code",
    "id": "71OERFb9ApLR",
    "outputId": "60e1eb20-dfab-4b06-ee7c-9119b86ce581"
   },
   "outputs": [
    {
     "data": {
      "text/plain": [
       "0.9062879339645545"
      ]
     },
     "execution_count": 39,
     "metadata": {},
     "output_type": "execute_result"
    }
   ],
   "source": [
    "clf = SVC()\n",
    "clf.fit(x_train, y_train)\n",
    "pred = clf.predict(x_test)\n",
    "accuracy_score(y_test, pred)"
   ]
  },
  {
   "cell_type": "markdown",
   "metadata": {},
   "source": [
    "## 3. Decision Tree Classifier"
   ]
  },
  {
   "cell_type": "code",
   "execution_count": 40,
   "metadata": {
    "collapsed": true
   },
   "outputs": [],
   "source": [
    "from sklearn import tree"
   ]
  },
  {
   "cell_type": "code",
   "execution_count": 41,
   "metadata": {
    "colab": {},
    "colab_type": "code",
    "collapsed": true,
    "id": "bGNfdYpnApLc"
   },
   "outputs": [],
   "source": [
    "clf = tree.DecisionTreeClassifier()\n",
    "clf = clf.fit(x_train, y_train)"
   ]
  },
  {
   "cell_type": "code",
   "execution_count": 42,
   "metadata": {
    "colab": {
     "base_uri": "https://localhost:8080/",
     "height": 124
    },
    "colab_type": "code",
    "executionInfo": {
     "elapsed": 1006,
     "status": "ok",
     "timestamp": 1548856919121,
     "user": {
      "displayName": "Onkar Madli",
      "photoUrl": "",
      "userId": "13441899661220481142"
     },
     "user_tz": -330
    },
    "id": "Q9GuwDFqApLh",
    "outputId": "a574b386-4762-406f-a294-eb295d49cad7",
    "scrolled": true
   },
   "outputs": [
    {
     "data": {
      "text/plain": [
       "DecisionTreeClassifier(class_weight=None, criterion='gini', max_depth=None,\n",
       "            max_features=None, max_leaf_nodes=None,\n",
       "            min_impurity_decrease=0.0, min_impurity_split=None,\n",
       "            min_samples_leaf=1, min_samples_split=2,\n",
       "            min_weight_fraction_leaf=0.0, presort=False, random_state=None,\n",
       "            splitter='best')"
      ]
     },
     "execution_count": 42,
     "metadata": {},
     "output_type": "execute_result"
    }
   ],
   "source": [
    "clf"
   ]
  },
  {
   "cell_type": "code",
   "execution_count": 43,
   "metadata": {
    "colab": {},
    "colab_type": "code",
    "id": "u8_wHpmpApMK"
   },
   "outputs": [
    {
     "data": {
      "text/plain": [
       "0.889900461277009"
      ]
     },
     "execution_count": 43,
     "metadata": {},
     "output_type": "execute_result"
    }
   ],
   "source": [
    "predi = clf.predict(x_test)\n",
    "\n",
    "accuracy_score(y_test, predi)"
   ]
  },
  {
   "cell_type": "markdown",
   "metadata": {},
   "source": [
    "## 4. Random Forest Classifier"
   ]
  },
  {
   "cell_type": "code",
   "execution_count": null,
   "metadata": {
    "collapsed": true
   },
   "outputs": [],
   "source": [
    "from sklearn.ensemble import RandomForestClassifier\n",
    "from sklearn.datasets import make_classification"
   ]
  },
  {
   "cell_type": "code",
   "execution_count": null,
   "metadata": {
    "colab": {},
    "colab_type": "code",
    "id": "mq3zRLRFApMe"
   },
   "outputs": [],
   "source": [
    "X, y = make_classification(n_samples=41188, n_features=20, shuffle=True)\n",
    "clf = RandomForestClassifier(n_estimators=100, max_depth=2,\n",
    "                             random_state=0)\n",
    "clf.fit(x_train, y_train)\n",
    "\n",
    "print(clf.feature_importances_)\n",
    "\n",
    "print(clf.predict(x_test))\n",
    "accuracy_score(y_test, predi)"
   ]
  },
  {
   "cell_type": "code",
   "execution_count": null,
   "metadata": {
    "collapsed": true
   },
   "outputs": [],
   "source": [
    "y_train = pd.get_dummies(y_train)"
   ]
  },
  {
   "cell_type": "markdown",
   "metadata": {},
   "source": [
    "## Neural Network"
   ]
  },
  {
   "cell_type": "code",
   "execution_count": null,
   "metadata": {},
   "outputs": [],
   "source": [
    "import keras\n",
    "from keras.models import Sequential\n",
    "from keras.layers import Dense\n",
    "# from keras.wrappers.scikit_learn import KerasClassifier"
   ]
  },
  {
   "cell_type": "code",
   "execution_count": null,
   "metadata": {
    "collapsed": true
   },
   "outputs": [],
   "source": [
    "model = Sequential()\n",
    "model.add(Dense(30, activation='tanh', input_dim=19))\n",
    "model.add(Dense(20, activation='tanh'))\n",
    "model.add(Dense(12, activation='tanh'))\n",
    "model.add(Dense(6, activation='tanh'))\n",
    "model.add(Dense(2, activation='softmax'))\n",
    "model.compile(optimizer='adagrad',\n",
    "              loss='categorical_crossentropy',\n",
    "              metrics=['accuracy'])"
   ]
  },
  {
   "cell_type": "code",
   "execution_count": null,
   "metadata": {
    "colab": {
     "base_uri": "https://localhost:8080/",
     "height": 390
    },
    "colab_type": "code",
    "executionInfo": {
     "elapsed": 1468,
     "status": "ok",
     "timestamp": 1548858301463,
     "user": {
      "displayName": "Onkar Madli",
      "photoUrl": "",
      "userId": "13441899661220481142"
     },
     "user_tz": -330
    },
    "id": "zviaNWuGApMw",
    "outputId": "dfe82894-b6f0-4c6f-aaea-7c2c9e0ca5cd",
    "scrolled": true
   },
   "outputs": [],
   "source": [
    "history = model.fit(x=x_train,y=y_train,epochs=100,validation_split=0.25,verbose=0)"
   ]
  },
  {
   "cell_type": "code",
   "execution_count": null,
   "metadata": {
    "scrolled": true
   },
   "outputs": [],
   "source": [
    "plt.plot(history.epoch, history.history['val_loss'], 'r',\n",
    "        history.epoch, history.history['loss'], 'g')"
   ]
  },
  {
   "cell_type": "code",
   "execution_count": null,
   "metadata": {},
   "outputs": [],
   "source": [
    "plt.plot(history.epoch, history.history['val_acc'], 'r',\n",
    "        history.epoch, history.history['acc'], 'g')"
   ]
  },
  {
   "cell_type": "code",
   "execution_count": null,
   "metadata": {
    "collapsed": true
   },
   "outputs": [],
   "source": [
    "y_test = pd.get_dummies(y_test)"
   ]
  },
  {
   "cell_type": "code",
   "execution_count": null,
   "metadata": {},
   "outputs": [],
   "source": [
    "test_loss, test_acc = model.evaluate(x_test, y_test)\n",
    "\n",
    "print('Test accuracy:', test_acc)"
   ]
  }
 ],
 "metadata": {
  "accelerator": "GPU",
  "colab": {
   "name": "Copy of BankMarketing.ipynb",
   "provenance": [
    {
     "file_id": "12t2awwmqra78VeqJfl-cs-K5e4EWRPyg",
     "timestamp": 1548858495575
    }
   ],
   "version": "0.3.2"
  },
  "kernelspec": {
   "display_name": "Python 3",
   "language": "python",
   "name": "python3"
  },
  "language_info": {
   "codemirror_mode": {
    "name": "ipython",
    "version": 3
   },
   "file_extension": ".py",
   "mimetype": "text/x-python",
   "name": "python",
   "nbconvert_exporter": "python",
   "pygments_lexer": "ipython3",
   "version": "3.6.2"
  }
 },
 "nbformat": 4,
 "nbformat_minor": 1
}
